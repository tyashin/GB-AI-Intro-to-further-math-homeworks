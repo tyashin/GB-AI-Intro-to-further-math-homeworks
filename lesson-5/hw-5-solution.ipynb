{
 "cells": [
  {
   "cell_type": "code",
   "execution_count": 62,
   "metadata": {},
   "outputs": [],
   "source": [
    "%matplotlib inline\n",
    "import numpy as np\n",
    "import matplotlib.pyplot as plt\n",
    "import itertools\n",
    "\n",
    "factorial =  np.math.factorial"
   ]
  },
  {
   "cell_type": "markdown",
   "metadata": {},
   "source": [
    "### 1. Напишите код, моделирующий выпадение поля в рулетке (с учетом поля зеро)."
   ]
  },
  {
   "cell_type": "code",
   "execution_count": 49,
   "metadata": {},
   "outputs": [
    {
     "name": "stdout",
     "output_type": "stream",
     "text": [
      "23, 7, 5, 3, 10, 4, 5, 24, 25, 0, 18, 4, 31, 24, 5, 10, 27, 17, 12, 2, 30, 33, 34, 17, 34, 7, 12, 22, 11, 24, 27, 27, 7, 4, 9, 26, 32, 27, 16, 33, 7, 31, 29, 13, 1, 13, 9, 31, 10, 15, 16, 28, 3, 14, 16, 1, 9, 35, 32, 19, 1, 26, 12, 1, 6, 11, 11, 15, 17, 27, 23, 36, 4, 32, 11, 15, 1, 26, 33, 1, 35, 5, 35, 26, 33, 32, 0, 14, 35, 7, 18, 23, 7, 12, 15, 29, 0, 6, 23, 8, "
     ]
    }
   ],
   "source": [
    "for _i in range(0,100):\n",
    "    x = np.random.randint(37)\n",
    "    print(x, end=\", \")"
   ]
  },
  {
   "cell_type": "markdown",
   "metadata": {},
   "source": [
    "### 2.1. Напишите код, проверяющий любую из теорем сложения или умножения вероятности на примере рулетки или подбрасывания монетки."
   ]
  },
  {
   "cell_type": "code",
   "execution_count": 50,
   "metadata": {},
   "outputs": [
    {
     "name": "stdout",
     "output_type": "stream",
     "text": [
      "P(heads + tails) = P(heads) + P(tails) = 1. \n",
      "P(heads) = P(tails) = 50%\n",
      "На выборке из 10000 событий, heads: 5040 (50.4%), \n",
      "tails: 4960 (49.6%).\n"
     ]
    }
   ],
   "source": [
    "#Сложение вероятностей двух равновозможных несовместных событий на примере подбрасывания монеты.\n",
    "heads,tails = 0,0\n",
    "iterations = 10000\n",
    "for _i in range(0,iterations):\n",
    "    x = np.random.randint(2)\n",
    "    if x == 0:\n",
    "        heads +=1\n",
    "    else:\n",
    "        tails +=1\n",
    "        \n",
    "print('P(heads + tails) = P(heads) + P(tails) = 1. \\nP(heads) = P(tails) = 50%')     \n",
    "print(f'''На выборке из {_i+1} событий, heads: {heads} ({heads/iterations*100}%), \n",
    "tails: {tails} ({tails/iterations*100}%).''')    "
   ]
  },
  {
   "cell_type": "markdown",
   "metadata": {},
   "source": [
    "### 2.2. Сгенерируйте десять выборок случайных чисел х0, ..., х9 и постройте гистограмму распределения случайной суммы +х1+ ...+ х9."
   ]
  },
  {
   "cell_type": "code",
   "execution_count": 52,
   "metadata": {},
   "outputs": [
    {
     "name": "stdout",
     "output_type": "stream",
     "text": [
      "Итоговая выборка: [3.6279348527885746, 4.474392466085286, 6.289807289108143, 5.179047152622993, 5.631401129883068, 5.956855129755797, 5.33858826564721, 4.547323539099912, 4.886731984328314, 5.0897933963462405]\n"
     ]
    },
    {
     "data": {
      "text/plain": [
       "Text(0.5, 1.0, 'Histogram')"
      ]
     },
     "execution_count": 52,
     "metadata": {},
     "output_type": "execute_result"
    },
    {
     "data": {
      "image/png": "[encoded data removed]",
      "text/plain": [
       "<Figure size 432x288 with 1 Axes>"
      ]
     },
     "metadata": {
      "needs_background": "light"
     },
     "output_type": "display_data"
    }
   ],
   "source": [
    "allsums=[]\n",
    "for _i in range(10):\n",
    "  x=np.random.rand(10)\n",
    "  allsums.append(sum(x))\n",
    "num_bins = 10\n",
    "print(f'Итоговая выборка: {allsums}')\n",
    "n, bins, patches = plt.hist(allsums, num_bins)\n",
    "plt.xlabel('summa')\n",
    "plt.ylabel('Probability')\n",
    "plt.title('Histogram')\n"
   ]
  },
  {
   "cell_type": "markdown",
   "metadata": {},
   "source": [
    "### 3.1. Дополните код Монте-Карло последовательности независимых испытаний расчетом соответствующих вероятностей (через биномиальное распределение) и сравните результаты."
   ]
  },
  {
   "cell_type": "code",
   "execution_count": 53,
   "metadata": {},
   "outputs": [
    {
     "name": "stdout",
     "output_type": "stream",
     "text": [
      "37585 100000 0.37585 0.375\n"
     ]
    }
   ],
   "source": [
    "k, n = 0, 100000\n",
    "a = np.random.randint(0, 2, n)\n",
    "b = np.random.randint(0, 2, n)\n",
    "c = np.random.randint(0, 2, n)\n",
    "d = np.random.randint(0, 2, n)\n",
    "x = a + b + c + d\n",
    "for i in range(0, n):\n",
    "    if x[i] == 2:\n",
    "        k = k + 1\n",
    "\n",
    "p = factorial(4)/(factorial(2)**2) * 1/16 #формула Бернулли (2 успеха из 4-х испытаний)\n",
    "print(k, n, k/n, p)"
   ]
  },
  {
   "cell_type": "markdown",
   "metadata": {},
   "source": [
    "### 3.2. Повторите расчеты биномиальных коэффициентов и вероятностей k успехов в последовательности из n независимых испытаний, взяв другие значения n и k."
   ]
  },
  {
   "cell_type": "code",
   "execution_count": 54,
   "metadata": {},
   "outputs": [
    {
     "name": "stdout",
     "output_type": "stream",
     "text": [
      "31401 100000 0.31401 0.3125\n"
     ]
    }
   ],
   "source": [
    "k, n = 0, 100000\n",
    "a = np.random.randint(0, 2, n)\n",
    "b = np.random.randint(0, 2, n)\n",
    "c = np.random.randint(0, 2, n)\n",
    "d = np.random.randint(0, 2, n)\n",
    "e = np.random.randint(0, 2, n)\n",
    "x = a + b + c + d + e\n",
    "for i in range(0, n):\n",
    "    if x[i] == 3:\n",
    "        k = k + 1\n",
    "\n",
    "p = factorial(5)/(factorial(3)*factorial(2)) * 1/32 #формула Бернулли (3 успеха из 5 испытаний)\n",
    "print(k, n, k/n, p)"
   ]
  },
  {
   "cell_type": "markdown",
   "metadata": {},
   "source": [
    "### 4.(не обязательно, но желательно) Из урока по комбинаторике повторите расчеты, сгенерировав возможные варианты перестановок для других значений n и k"
   ]
  },
  {
   "cell_type": "code",
   "execution_count": 67,
   "metadata": {},
   "outputs": [
    {
     "name": "stdout",
     "output_type": "stream",
     "text": [
      "Количество перестановок для n=k=5: 120\n"
     ]
    },
    {
     "data": {
      "text/plain": [
       "[('1', '2', '3', '4', '5'),\n",
       " ('1', '2', '3', '5', '4'),\n",
       " ('1', '2', '4', '3', '5'),\n",
       " ('1', '2', '4', '5', '3'),\n",
       " ('1', '2', '5', '3', '4'),\n",
       " ('1', '2', '5', '4', '3'),\n",
       " ('1', '3', '2', '4', '5'),\n",
       " ('1', '3', '2', '5', '4'),\n",
       " ('1', '3', '4', '2', '5'),\n",
       " ('1', '3', '4', '5', '2'),\n",
       " ('1', '3', '5', '2', '4'),\n",
       " ('1', '3', '5', '4', '2'),\n",
       " ('1', '4', '2', '3', '5'),\n",
       " ('1', '4', '2', '5', '3'),\n",
       " ('1', '4', '3', '2', '5'),\n",
       " ('1', '4', '3', '5', '2'),\n",
       " ('1', '4', '5', '2', '3'),\n",
       " ('1', '4', '5', '3', '2'),\n",
       " ('1', '5', '2', '3', '4'),\n",
       " ('1', '5', '2', '4', '3'),\n",
       " ('1', '5', '3', '2', '4'),\n",
       " ('1', '5', '3', '4', '2'),\n",
       " ('1', '5', '4', '2', '3'),\n",
       " ('1', '5', '4', '3', '2'),\n",
       " ('2', '1', '3', '4', '5'),\n",
       " ('2', '1', '3', '5', '4'),\n",
       " ('2', '1', '4', '3', '5'),\n",
       " ('2', '1', '4', '5', '3'),\n",
       " ('2', '1', '5', '3', '4'),\n",
       " ('2', '1', '5', '4', '3'),\n",
       " ('2', '3', '1', '4', '5'),\n",
       " ('2', '3', '1', '5', '4'),\n",
       " ('2', '3', '4', '1', '5'),\n",
       " ('2', '3', '4', '5', '1'),\n",
       " ('2', '3', '5', '1', '4'),\n",
       " ('2', '3', '5', '4', '1'),\n",
       " ('2', '4', '1', '3', '5'),\n",
       " ('2', '4', '1', '5', '3'),\n",
       " ('2', '4', '3', '1', '5'),\n",
       " ('2', '4', '3', '5', '1'),\n",
       " ('2', '4', '5', '1', '3'),\n",
       " ('2', '4', '5', '3', '1'),\n",
       " ('2', '5', '1', '3', '4'),\n",
       " ('2', '5', '1', '4', '3'),\n",
       " ('2', '5', '3', '1', '4'),\n",
       " ('2', '5', '3', '4', '1'),\n",
       " ('2', '5', '4', '1', '3'),\n",
       " ('2', '5', '4', '3', '1'),\n",
       " ('3', '1', '2', '4', '5'),\n",
       " ('3', '1', '2', '5', '4'),\n",
       " ('3', '1', '4', '2', '5'),\n",
       " ('3', '1', '4', '5', '2'),\n",
       " ('3', '1', '5', '2', '4'),\n",
       " ('3', '1', '5', '4', '2'),\n",
       " ('3', '2', '1', '4', '5'),\n",
       " ('3', '2', '1', '5', '4'),\n",
       " ('3', '2', '4', '1', '5'),\n",
       " ('3', '2', '4', '5', '1'),\n",
       " ('3', '2', '5', '1', '4'),\n",
       " ('3', '2', '5', '4', '1'),\n",
       " ('3', '4', '1', '2', '5'),\n",
       " ('3', '4', '1', '5', '2'),\n",
       " ('3', '4', '2', '1', '5'),\n",
       " ('3', '4', '2', '5', '1'),\n",
       " ('3', '4', '5', '1', '2'),\n",
       " ('3', '4', '5', '2', '1'),\n",
       " ('3', '5', '1', '2', '4'),\n",
       " ('3', '5', '1', '4', '2'),\n",
       " ('3', '5', '2', '1', '4'),\n",
       " ('3', '5', '2', '4', '1'),\n",
       " ('3', '5', '4', '1', '2'),\n",
       " ('3', '5', '4', '2', '1'),\n",
       " ('4', '1', '2', '3', '5'),\n",
       " ('4', '1', '2', '5', '3'),\n",
       " ('4', '1', '3', '2', '5'),\n",
       " ('4', '1', '3', '5', '2'),\n",
       " ('4', '1', '5', '2', '3'),\n",
       " ('4', '1', '5', '3', '2'),\n",
       " ('4', '2', '1', '3', '5'),\n",
       " ('4', '2', '1', '5', '3'),\n",
       " ('4', '2', '3', '1', '5'),\n",
       " ('4', '2', '3', '5', '1'),\n",
       " ('4', '2', '5', '1', '3'),\n",
       " ('4', '2', '5', '3', '1'),\n",
       " ('4', '3', '1', '2', '5'),\n",
       " ('4', '3', '1', '5', '2'),\n",
       " ('4', '3', '2', '1', '5'),\n",
       " ('4', '3', '2', '5', '1'),\n",
       " ('4', '3', '5', '1', '2'),\n",
       " ('4', '3', '5', '2', '1'),\n",
       " ('4', '5', '1', '2', '3'),\n",
       " ('4', '5', '1', '3', '2'),\n",
       " ('4', '5', '2', '1', '3'),\n",
       " ('4', '5', '2', '3', '1'),\n",
       " ('4', '5', '3', '1', '2'),\n",
       " ('4', '5', '3', '2', '1'),\n",
       " ('5', '1', '2', '3', '4'),\n",
       " ('5', '1', '2', '4', '3'),\n",
       " ('5', '1', '3', '2', '4'),\n",
       " ('5', '1', '3', '4', '2'),\n",
       " ('5', '1', '4', '2', '3'),\n",
       " ('5', '1', '4', '3', '2'),\n",
       " ('5', '2', '1', '3', '4'),\n",
       " ('5', '2', '1', '4', '3'),\n",
       " ('5', '2', '3', '1', '4'),\n",
       " ('5', '2', '3', '4', '1'),\n",
       " ('5', '2', '4', '1', '3'),\n",
       " ('5', '2', '4', '3', '1'),\n",
       " ('5', '3', '1', '2', '4'),\n",
       " ('5', '3', '1', '4', '2'),\n",
       " ('5', '3', '2', '1', '4'),\n",
       " ('5', '3', '2', '4', '1'),\n",
       " ('5', '3', '4', '1', '2'),\n",
       " ('5', '3', '4', '2', '1'),\n",
       " ('5', '4', '1', '2', '3'),\n",
       " ('5', '4', '1', '3', '2'),\n",
       " ('5', '4', '2', '1', '3'),\n",
       " ('5', '4', '2', '3', '1'),\n",
       " ('5', '4', '3', '1', '2'),\n",
       " ('5', '4', '3', '2', '1')]"
      ]
     },
     "execution_count": 67,
     "metadata": {},
     "output_type": "execute_result"
    }
   ],
   "source": [
    "print(f'Количество перестановок для n=k=5: {factorial(5)}')\n",
    "list(itertools.permutations(\"12345\",5))\n"
   ]
  },
  {
   "cell_type": "code",
   "execution_count": null,
   "metadata": {},
   "outputs": [],
   "source": []
  }
 ],
 "metadata": {
  "kernelspec": {
   "display_name": "Python 3.8.5 64-bit ('base': conda)",
   "language": "python",
   "name": "python385jvsc74a57bd08a49bb684e43ab00106799ded31d49934e1f306b7a86a273670123ff298874f2"
  },
  "language_info": {
   "codemirror_mode": {
    "name": "ipython",
    "version": 3
   },
   "file_extension": ".py",
   "mimetype": "text/x-python",
   "name": "python",
   "nbconvert_exporter": "python",
   "pygments_lexer": "ipython3",
   "version": "3.8.5"
  }
 },
 "nbformat": 4,
 "nbformat_minor": 4
}
