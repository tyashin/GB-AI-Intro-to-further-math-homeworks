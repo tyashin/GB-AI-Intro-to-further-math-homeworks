{
 "cells": [
  {
   "cell_type": "markdown",
   "metadata": {},
   "source": [
    "## Практическое задание №6"
   ]
  },
  {
   "cell_type": "code",
   "execution_count": 39,
   "metadata": {},
   "outputs": [],
   "source": [
    "import numpy as np\n",
    "from numpy.linalg import solve, lstsq\n",
    "from scipy.linalg import lu\n",
    "import warnings\n",
    "\n",
    "warnings.filterwarnings('ignore')"
   ]
  },
  {
   "cell_type": "markdown",
   "metadata": {},
   "source": [
    "**1. Решите линейную систему:[[1,2,3],[4,0,6],[7,8,9]] * X = [12,2,1]**"
   ]
  },
  {
   "cell_type": "code",
   "execution_count": 9,
   "metadata": {},
   "outputs": [
    {
     "name": "stdout",
     "output_type": "stream",
     "text": [
      "[-9.2         0.9         6.46666667]\n"
     ]
    }
   ],
   "source": [
    "a = np.array([[1,2,3],[4,0,6],[7,8,9]])\n",
    "b = np.array([12,2,1])\n",
    "print(solve(a,b))"
   ]
  },
  {
   "cell_type": "markdown",
   "metadata": {},
   "source": [
    "**2. Найдите псевдорешение:\n",
    "{x + 2y – z = 1, \n",
    "3x – 4y = 7, \n",
    "8x – 5y + 2z = 12, \n",
    "2x – 5z = 7, \n",
    "11x +4y – 7z = 15}**"
   ]
  },
  {
   "cell_type": "code",
   "execution_count": 16,
   "metadata": {},
   "outputs": [
    {
     "name": "stdout",
     "output_type": "stream",
     "text": [
      "(array([ 1.13919353, -0.90498444, -0.9009803 ]), array([0.71523211]), 3, array([15.2817306 ,  9.59852942,  3.65197794]))\n"
     ]
    }
   ],
   "source": [
    "a = np.array([[1,2,-1],[3,-4,0],[8,-5,2],[2,0,-5],[11,4,-7]])\n",
    "b = np.array([1,7,12,7,15])\n",
    "print(lstsq(a,b))"
   ]
  },
  {
   "cell_type": "code",
   "execution_count": 18,
   "metadata": {},
   "outputs": [
    {
     "name": "stdout",
     "output_type": "stream",
     "text": [
      "[ 0.23020495  7.03751835 11.83650984  6.78328856 15.21805317]\n"
     ]
    }
   ],
   "source": [
    "# Проверка решения\n",
    "print(np.dot(a, [1.13919353, -0.90498444, -0.9009803]))"
   ]
  },
  {
   "cell_type": "markdown",
   "metadata": {},
   "source": [
    "**3. Сколько решений имеет линейная система:[[1,2,3],[4,5,6],[7,8,9]] * X = [12,2,1] ? Если ноль – то измените вектор правой части так, чтобы система стала совместной, и решите ее.**"
   ]
  },
  {
   "cell_type": "code",
   "execution_count": 5,
   "metadata": {},
   "outputs": [
    {
     "name": "stdout",
     "output_type": "stream",
     "text": [
      "[ 2.83726777e+16 -5.67453553e+16  2.83726777e+16]\n"
     ]
    }
   ],
   "source": [
    "a = np.array([[1,2,3],[4,5,6],[7,8,9]])\n",
    "b = np.array([12,2,1])\n",
    "print(solve(a,b))"
   ]
  },
  {
   "cell_type": "markdown",
   "metadata": {},
   "source": [
    "Данная система не имеет решений (решение численным методом дает значения порядка 10^16). Заменим свободный член во всех уравнениях на 0 и решим новую систему:"
   ]
  },
  {
   "cell_type": "code",
   "execution_count": 6,
   "metadata": {},
   "outputs": [
    {
     "name": "stdout",
     "output_type": "stream",
     "text": [
      "[ 0.  0. -0.]\n"
     ]
    }
   ],
   "source": [
    "a = np.array([[1,2,3],[4,5,6],[7,8,9]])\n",
    "b = np.array([0,0,0])\n",
    "print(solve(a,b))"
   ]
  },
  {
   "cell_type": "markdown",
   "metadata": {},
   "source": [
    "Новая система имеет бесконечно много решений. Общее решение: x2 = -2*x1, x3 = x1. Численный метод нашел только одно из решений."
   ]
  },
  {
   "cell_type": "markdown",
   "metadata": {},
   "source": [
    "**4. Вычислите LU-разложение матрицы: [[1,2,3],[2,16,21],[4,28,73]]**"
   ]
  },
  {
   "cell_type": "code",
   "execution_count": 40,
   "metadata": {},
   "outputs": [
    {
     "name": "stdout",
     "output_type": "stream",
     "text": [
      "[[0. 1. 0.]\n",
      " [0. 0. 1.]\n",
      " [1. 0. 0.]]\n",
      "\n",
      "[[ 1.    0.    0.  ]\n",
      " [ 0.25  1.    0.  ]\n",
      " [ 0.5  -0.4   1.  ]]\n",
      "\n",
      "[[  4.    28.    73.  ]\n",
      " [  0.    -5.   -15.25]\n",
      " [  0.     0.   -21.6 ]]\n"
     ]
    }
   ],
   "source": [
    "a = np.array([[1,2,3],[2,16,21],[4,28,73]])\n",
    "p,l,u = lu(a)\n",
    "print(p, end='\\n\\n')\n",
    "print(l, end='\\n\\n')\n",
    "print(u)\n"
   ]
  },
  {
   "cell_type": "code",
   "execution_count": null,
   "metadata": {},
   "outputs": [],
   "source": []
  }
 ],
 "metadata": {
  "kernelspec": {
   "display_name": "Python 3.8.5 64-bit ('base': conda)",
   "language": "python",
   "name": "python385jvsc74a57bd08a49bb684e43ab00106799ded31d49934e1f306b7a86a273670123ff298874f2"
  },
  "language_info": {
   "codemirror_mode": {
    "name": "ipython",
    "version": 3
   },
   "file_extension": ".py",
   "mimetype": "text/x-python",
   "name": "python",
   "nbconvert_exporter": "python",
   "pygments_lexer": "ipython3",
   "version": "3.8.5"
  }
 },
 "nbformat": 4,
 "nbformat_minor": 4
}
